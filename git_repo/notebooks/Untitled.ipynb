{
 "cells": [
  {
   "cell_type": "code",
   "execution_count": 14,
   "id": "013658e4-af62-488a-a700-4dd7009c5216",
   "metadata": {},
   "outputs": [],
   "source": [
    "import subprocess\n",
    "\n",
    "def run_kafka_command(command):\n",
    "    result = subprocess.run(command, shell=True, capture_output=True, text=True)\n",
    "    print(\"📢 Command Output:\\n\", result.stdout)\n",
    "    if result.stderr:\n",
    "        print(\"❌ Error:\\n\", result.stderr)\n",
    "\n",
    "\n"
   ]
  },
  {
   "cell_type": "code",
   "execution_count": 15,
   "id": "f3d74e00-a941-4de6-a3bd-1c35693e8130",
   "metadata": {},
   "outputs": [
    {
     "name": "stdout",
     "output_type": "stream",
     "text": [
      "Updated JAVA_HOME: /usr/lib/jvm/java-21-openjdk-amd64\n"
     ]
    }
   ],
   "source": [
    "import os\n",
    "os.environ[\"JAVA_HOME\"] = \"/usr/lib/jvm/java-21-openjdk-amd64\"\n",
    "print(\"Updated JAVA_HOME:\", os.environ[\"JAVA_HOME\"])"
   ]
  },
  {
   "cell_type": "code",
   "execution_count": 18,
   "id": "f3b2587e-2ae9-4e91-9c26-4b2e9314cbf7",
   "metadata": {},
   "outputs": [
    {
     "name": "stdout",
     "output_type": "stream",
     "text": [
      "📢 Command Output:\n",
      " \n",
      "❌ Error:\n",
      " /bin/sh: 1: kafka-topics: not found\n",
      "\n"
     ]
    }
   ],
   "source": [
    "run_kafka_command(\"kafka-topics --bootstrap-server kafka:29092 --delete --topic airline_data\")\n"
   ]
  },
  {
   "cell_type": "code",
   "execution_count": 17,
   "id": "8b04220b-b94d-4722-a843-54644b9de4c5",
   "metadata": {},
   "outputs": [
    {
     "name": "stdout",
     "output_type": "stream",
     "text": [
      "📢 Command Output:\n",
      " \n",
      "❌ Error:\n",
      " /bin/sh: 1: kafka-topics: not found\n",
      "\n"
     ]
    }
   ],
   "source": [
    "run_kafka_command(\"kafka-topics --bootstrap-server kafka:29092 --create --topic airline_data --partitions 3 --replication-factor 1\")\n"
   ]
  },
  {
   "cell_type": "code",
   "execution_count": null,
   "id": "373fe152-6698-496c-93bf-513141df5f5f",
   "metadata": {},
   "outputs": [],
   "source": []
  }
 ],
 "metadata": {
  "kernelspec": {
   "display_name": "Python 3 (ipykernel)",
   "language": "python",
   "name": "python3"
  },
  "language_info": {
   "codemirror_mode": {
    "name": "ipython",
    "version": 3
   },
   "file_extension": ".py",
   "mimetype": "text/x-python",
   "name": "python",
   "nbconvert_exporter": "python",
   "pygments_lexer": "ipython3",
   "version": "3.11.6"
  }
 },
 "nbformat": 4,
 "nbformat_minor": 5
}
